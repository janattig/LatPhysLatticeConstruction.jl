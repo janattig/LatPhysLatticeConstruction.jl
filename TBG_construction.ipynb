{
 "cells": [
  {
   "cell_type": "code",
   "execution_count": 1,
   "metadata": {},
   "outputs": [],
   "source": [
    "using LatticePhysics\n",
    "using LatPhysPlottingPyPlot; using LatPhysReciprocalPlottingPyPlot;\n",
    "using PyPlot; pygui(false);\n",
    "using BenchmarkTools\n",
    "using Traceur\n",
    "using Random\n",
    "using LinearAlgebra"
   ]
  },
  {
   "cell_type": "code",
   "execution_count": 2,
   "metadata": {},
   "outputs": [
    {
     "data": {
      "text/plain": [
       "vector (generic function with 2 methods)"
      ]
     },
     "execution_count": 2,
     "metadata": {},
     "output_type": "execute_result"
    }
   ],
   "source": [
    "function vector(\n",
    "            bond    :: B,\n",
    "            lattice :: LA\n",
    "        ) :: Vector{Float64} where {N,L,B<:AbstractBond{L,N}, SU,BU,U<:AbstractUnitcell{SU,BU}, SL,LL,BL<:AbstractBond{LL,N},LA<:AbstractLattice{SL,BL,U}}\n",
    "\n",
    "    # build the offset vector\n",
    "    v = point(site(lattice,to(bond))) .- point(site(lattice,from(bond)))\n",
    "    for i in 1:N\n",
    "        v .+= wrap(bond)[i].*latticeVectors(lattice)[i]\n",
    "    end\n",
    "    # return the offset vector\n",
    "    return v\n",
    "end\n",
    "\n",
    "function vector(\n",
    "            bond     :: B,\n",
    "            unitcell :: U\n",
    "        ) :: Vector{Float64} where {N,L,B<:AbstractBond{L,N}, S,LU,BU<:AbstractBond{LU,N},U<:AbstractUnitcell{S,BU}}\n",
    "\n",
    "    # build the offset vector\n",
    "    v = point(site(unitcell,to(bond))) .- point(site(unitcell,from(bond)))\n",
    "    for i in 1:N\n",
    "        v .+= wrap(bond)[i].*latticeVectors(unitcell)[i]\n",
    "    end\n",
    "    # return the offset vector\n",
    "    return v\n",
    "end"
   ]
  },
  {
   "cell_type": "code",
   "execution_count": 3,
   "metadata": {},
   "outputs": [
    {
     "data": {
      "text/plain": [
       "shuffle! (generic function with 4 methods)"
      ]
     },
     "execution_count": 3,
     "metadata": {},
     "output_type": "execute_result"
    }
   ],
   "source": [
    "import Random.shuffle!\n",
    "function shuffle!(\n",
    "            lattice :: L\n",
    "        ) where {LB,N,LS,D,B<:AbstractBond{LB,N},S<:AbstractSite{LS,D},U,L<:AbstractLattice{S,B,U}}\n",
    "    # make a new list of site indices\n",
    "    indices_new = shuffle(collect(1:length(sites(lattice))))\n",
    "    # make a new list of sites\n",
    "    sites_new   = Vector{S}(undef, length(sites(lattice)))\n",
    "    for s in 1:length(sites(lattice))\n",
    "        sites_new[indices_new[s]] = site(lattice, s)\n",
    "    end\n",
    "    # reformat all bonds\n",
    "    for b in bonds(lattice)\n",
    "        from!(b, indices_new[from(b)])\n",
    "        to!(b, indices_new[to(b)])\n",
    "    end\n",
    "    # set the sites\n",
    "    sites!(lattice, sites_new)\n",
    "    # shuffle all bonds\n",
    "    bonds!(lattice, shuffle(bonds(lattice)))\n",
    "end"
   ]
  },
  {
   "cell_type": "code",
   "execution_count": 21,
   "metadata": {},
   "outputs": [
    {
     "data": {
      "text/plain": [
       "rotateAroundZAxisDeg! (generic function with 2 methods)"
      ]
     },
     "execution_count": 21,
     "metadata": {},
     "output_type": "execute_result"
    }
   ],
   "source": [
    "function rotateAroundZAxis!(lattice::AbstractLattice, angle::Real)\n",
    "    # rotate the lattice vectors\n",
    "    for lv in latticeVectors(lattice)\n",
    "        # rotate and overwrite simulateously all components\n",
    "        lv[1], lv[2] = cos(angle)*lv[1] + sin(angle)*lv[2]  ,   -sin(angle)*lv[1] + cos(angle)*lv[2]\n",
    "    end\n",
    "    # rotate the basis sites\n",
    "    for p in point.(sites(lattice))\n",
    "        # rotate and overwrite simulateously all components\n",
    "        p[1], p[2] = cos(angle)*p[1] + sin(angle)*p[2]  ,   -sin(angle)*p[1] + cos(angle)*p[2]\n",
    "    end\n",
    "end\n",
    "\n",
    "function rotateAroundZAxisDeg!(lattice::AbstractLattice, angle::Real)\n",
    "    rotateAroundZAxis!(lattice, angle*pi/180.0)\n",
    "end\n",
    "\n",
    "function rotateAroundZAxis!(uc::AbstractUnitcell, angle::Real)\n",
    "    # rotate the lattice vectors\n",
    "    for lv in latticeVectors(uc)\n",
    "        # rotate and overwrite simulateously all components\n",
    "        lv[1], lv[2] = cos(angle)*lv[1] + sin(angle)*lv[2]  ,   -sin(angle)*lv[1] + cos(angle)*lv[2]\n",
    "    end\n",
    "    # rotate the basis sites\n",
    "    for p in point.(sites(uc))\n",
    "        # rotate and overwrite simulateously all components\n",
    "        p[1], p[2] = cos(angle)*p[1] + sin(angle)*p[2]  ,   -sin(angle)*p[1] + cos(angle)*p[2]\n",
    "    end\n",
    "end\n",
    "\n",
    "function rotateAroundZAxisDeg!(uc::AbstractUnitcell, angle::Real)\n",
    "    rotateAroundZAxis!(uc, angle*pi/180.0)\n",
    "end"
   ]
  },
  {
   "cell_type": "code",
   "execution_count": 157,
   "metadata": {},
   "outputs": [
    {
     "data": {
      "text/plain": [
       "Unitcell object\n",
       "--> type Unitcell{Site{Int64,2},Bond{Int64,2}}\n",
       "--> 610 sites of type Site{Int64,2}\n",
       "--> 269451 bonds of type Bond{Int64,2}"
      ]
     },
     "execution_count": 157,
     "metadata": {},
     "output_type": "execute_result"
    }
   ],
   "source": [
    "m = 10\n",
    "n = 2\n",
    "\n",
    "uc = getUnitcellHoneycomb()\n",
    "\n",
    "L1 = m*a1(uc) + n*a2(uc)\n",
    "L2 = [cos(pi/3)*L1[1] + sin(pi/3)*L1[2]  ,   -sin(pi/3)*L1[1] + cos(pi/3)*L1[2]]\n",
    "\n",
    "L1_perp = [-L1[2], L1[1]]\n",
    "L2_perp = [-L2[2], L2[1]]\n",
    "\n",
    "# functions to find out the prefactors of new lattice vectors\n",
    "alpha_L1(p) = dot(p,L2_perp)/dot(L1,L2_perp)\n",
    "alpha_L2(p) = dot(p,L1_perp)/dot(L2,L1_perp)\n",
    "# function that determines the new moiree cell\n",
    "moiree_uc_shape(p) = (0 <= alpha_L1(p) < 1) && (0 <= alpha_L2(p) < 1)\n",
    "\n",
    "# create first layer\n",
    "uc1 = deepcopy(uc)\n",
    "label!.(sites(uc1), 1)\n",
    "lt1 = getLatticeInShape(uc1, moiree_uc_shape)\n",
    "\n",
    "# create second layer\n",
    "uc2 = deepcopy(uc)\n",
    "label!.(sites(uc2), 2)\n",
    "rotateAroundZAxis!(uc2, acos(0.5*(m*m + n*n + 4*m*n)/(m*m + n*n + m*n)))\n",
    "lt2 = getLatticeInShape(uc2, moiree_uc_shape)\n",
    "\n",
    "# create a shared lattice with sites and bonds of both layers\n",
    "lt_shared = deepcopy(lt1)\n",
    "for b in bonds(lt2)\n",
    "    from!(b, from(b)+length(sites(lt1)))\n",
    "    to!(b, to(b)+length(sites(lt1)))\n",
    "end\n",
    "append!(sites(lt_shared), sites(lt2))\n",
    "append!(bonds(lt_shared), bonds(lt2))\n",
    "\n",
    "# make a new unitcell out of this\n",
    "uc_moiree = deepcopy(uc)\n",
    "latticeVectors!(uc_moiree, [L1,L2])\n",
    "sites!(uc_moiree, sites(lt_shared))\n",
    "\n",
    "# maximum bond length (NN: 0.567...)\n",
    "max_length = 5\n",
    "# height different between layers\n",
    "a_0 = 0.5\n",
    "\n",
    "# fill the bonds of the moiree unitcell\n",
    "bonds_moiree = Bond{typeof(label(bonds(uc)[1])), 2}[\n",
    "    newBond(\n",
    "        Bond{typeof(label(bonds(uc)[1])), 2},\n",
    "        i,j,\n",
    "        getDefaultLabelN(typeof(label(bonds(uc)[1])), label(site(uc_moiree,i))*label(site(uc_moiree,j))),\n",
    "        (dn1,dn2)\n",
    "    )\n",
    "    for i in 1:length(sites(uc_moiree))\n",
    "    for j in 1:length(sites(uc_moiree))\n",
    "    for dn1 in [-1,0,1]\n",
    "    for dn2 in [-1,0,1]\n",
    "    if (norm(point(site(uc_moiree,j)) .+ dn1*L1 .+ dn2*L2 .- point(site(uc_moiree,i)))^2 + (label(site(uc_moiree,i))==label(site(uc_moiree,j)) ? 0 : 1)*a_0^2) < max_length^2\n",
    "]\n",
    "bonds!(uc_moiree, bonds_moiree);\n",
    "\n",
    "# show the moiree unitcell\n",
    "uc_moiree"
   ]
  },
  {
   "cell_type": "code",
   "execution_count": 156,
   "metadata": {},
   "outputs": [
    {
     "data": {
      "text/plain": [
       "Lattice object\n",
       "--> type Lattice{Site{Int64,2},Bond{Int64,0},Unitcell{Site{Int64,2},Bond{Int64,2}}}\n",
       "--> 5490 sites of type Site{Int64,2}\n",
       "--> 45234 bonds of type Bond{Int64,0}\n",
       "--> unitcell of type Unitcell{Site{Int64,2},Bond{Int64,2}}"
      ]
     },
     "execution_count": 156,
     "metadata": {},
     "output_type": "execute_result"
    }
   ],
   "source": [
    "moiree_lattice = getLatticeOpen(uc_moiree, 3)\n",
    "pygui(true)\n",
    "plotLattice(moiree_lattice, colorcode_bonds=Dict(1=>[0,0,0], 4=>[180,180,180], 2=>[255,0,0]));\n",
    "moiree_lattice"
   ]
  },
  {
   "cell_type": "code",
   "execution_count": null,
   "metadata": {},
   "outputs": [],
   "source": [
    "mutable struct TBGHamiltonian\n",
    "    \n",
    "end"
   ]
  },
  {
   "cell_type": "code",
   "execution_count": null,
   "metadata": {},
   "outputs": [],
   "source": []
  }
 ],
 "metadata": {
  "@webio": {
   "lastCommId": null,
   "lastKernelId": null
  },
  "kernelspec": {
   "display_name": "Julia 1.0.0",
   "language": "julia",
   "name": "julia-1.0"
  },
  "language_info": {
   "file_extension": ".jl",
   "mimetype": "application/julia",
   "name": "julia",
   "version": "1.0.0"
  }
 },
 "nbformat": 4,
 "nbformat_minor": 2
}

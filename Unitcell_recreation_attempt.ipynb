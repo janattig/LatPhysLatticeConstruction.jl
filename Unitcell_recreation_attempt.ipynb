{
 "cells": [
  {
   "cell_type": "code",
   "execution_count": 8,
   "metadata": {},
   "outputs": [],
   "source": [
    "using LatticePhysics\n",
    "using LatPhysPlottingPyPlot; using LatPhysReciprocalPlottingPyPlot;\n",
    "using PyPlot; pygui(false);\n",
    "using BenchmarkTools\n",
    "using Traceur\n",
    "using Random\n",
    "using LinearAlgebra"
   ]
  },
  {
   "cell_type": "code",
   "execution_count": 9,
   "metadata": {},
   "outputs": [
    {
     "data": {
      "text/plain": [
       "vector (generic function with 2 methods)"
      ]
     },
     "execution_count": 9,
     "metadata": {},
     "output_type": "execute_result"
    }
   ],
   "source": [
    "function vector(\n",
    "            bond    :: B,\n",
    "            lattice :: LA\n",
    "        ) :: Vector{Float64} where {N,L,B<:AbstractBond{L,N}, SU,BU,U<:AbstractUnitcell{SU,BU}, SL,LL,BL<:AbstractBond{LL,N},LA<:AbstractLattice{SL,BL,U}}\n",
    "\n",
    "    # build the offset vector\n",
    "    v = point(site(lattice,to(bond))) .- point(site(lattice,from(bond)))\n",
    "    for i in 1:N\n",
    "        v .+= wrap(bond)[i].*latticeVectors(lattice)[i]\n",
    "    end\n",
    "    # return the offset vector\n",
    "    return v\n",
    "end\n",
    "\n",
    "function vector(\n",
    "            bond     :: B,\n",
    "            unitcell :: U\n",
    "        ) :: Vector{Float64} where {N,L,B<:AbstractBond{L,N}, S,LU,BU<:AbstractBond{LU,N},U<:AbstractUnitcell{S,BU}}\n",
    "\n",
    "    # build the offset vector\n",
    "    v = point(site(unitcell,to(bond))) .- point(site(unitcell,from(bond)))\n",
    "    for i in 1:N\n",
    "        v .+= wrap(bond)[i].*latticeVectors(unitcell)[i]\n",
    "    end\n",
    "    # return the offset vector\n",
    "    return v\n",
    "end"
   ]
  },
  {
   "cell_type": "code",
   "execution_count": 14,
   "metadata": {},
   "outputs": [
    {
     "data": {
      "text/plain": [
       "shuffle! (generic function with 4 methods)"
      ]
     },
     "execution_count": 14,
     "metadata": {},
     "output_type": "execute_result"
    }
   ],
   "source": [
    "import Random.shuffle!\n",
    "function shuffle!(\n",
    "            lattice :: L\n",
    "        ) where {LB,N,LS,D,B<:AbstractBond{LB,N},S<:AbstractSite{LS,D},U,L<:AbstractLattice{S,B,U}}\n",
    "    # make a new list of site indices\n",
    "    indices_new = shuffle(collect(1:length(sites(lattice))))\n",
    "    # make a new list of sites\n",
    "    sites_new   = Vector{S}(undef, length(sites(lattice)))\n",
    "    for s in 1:length(sites(lattice))\n",
    "        sites_new[indices_new[s]] = site(lattice, s)\n",
    "    end\n",
    "    # reformat all bonds\n",
    "    for b in bonds(lattice)\n",
    "        from!(b, indices_new[from(b)])\n",
    "        to!(b, indices_new[to(b)])\n",
    "    end\n",
    "    # set the sites\n",
    "    sites!(lattice, sites_new)\n",
    "    # shuffle all bonds\n",
    "    bonds!(lattice, shuffle(bonds(lattice)))\n",
    "end"
   ]
  },
  {
   "cell_type": "code",
   "execution_count": 262,
   "metadata": {},
   "outputs": [
    {
     "data": {
      "text/plain": [
       "Lattice object\n",
       "--> type Lattice{Site{Int64,3},Bond{Int64,0},Unitcell{Site{Int64,3},Bond{Int64,3}}}\n",
       "--> 608 sites of type Site{Int64,3}\n",
       "--> 1554 bonds of type Bond{Int64,0}\n",
       "--> unitcell of type Unitcell{Site{Int64,3},Bond{Int64,3}}"
      ]
     },
     "execution_count": 262,
     "metadata": {},
     "output_type": "execute_result"
    }
   ],
   "source": [
    "uc = getUnitcellSquareOctagon(4)\n",
    "#uc = getUnitcellTriangular()\n",
    "uc = getUnitcell_10_3_b(4)\n",
    "#lt = getLatticeOpen(uc, 4)\n",
    "lt = getLatticeByBondDistance(uc, 10)\n",
    "relabelSitesBipartite!(lt)\n",
    "shuffle!(lt)\n",
    "lt_plot = deepcopy(lt)\n",
    "for s in 1:length(sites(lt_plot))\n",
    "    label!(site(lt_plot,s), s)\n",
    "end\n",
    "#relabelSitesBipartite!(lt)\n",
    "#plotLattice(lt_plot, colorcode_bonds=:Kitaev, site_labels=true);\n",
    "lt"
   ]
  },
  {
   "cell_type": "code",
   "execution_count": 342,
   "metadata": {},
   "outputs": [
    {
     "data": {
      "text/plain": [
       "constructUnitcellFromLatticeByBonds (generic function with 1 method)"
      ]
     },
     "execution_count": 342,
     "metadata": {},
     "output_type": "execute_result"
    }
   ],
   "source": [
    "function constructUnitcellFromLatticeByBonds(\n",
    "            lattice :: L\n",
    "            ;\n",
    "            check_site_labels  :: Bool = true,\n",
    "            check_bond_labels  :: Bool = true,\n",
    "            check_bond_vectors :: Bool = true,\n",
    "            check_bonds_from   :: Bool = true,\n",
    "            check_bonds_to     :: Bool = false,\n",
    "            basis_site_min_copies :: Integer = 2,\n",
    "            basis_site_min_copies_rel :: Real = 0.01,\n",
    "            translations_from_bonds :: Bool = true,\n",
    "            translations_from_sites :: Bool = true,\n",
    "            precision :: Real = 1e-6\n",
    "        ) where {LB,N,LS,D,B<:AbstractBond{LB,N},S<:AbstractSite{LS,D},U,L<:AbstractLattice{S,B,U}}\n",
    "    \n",
    "    \n",
    "    ######\n",
    "    # SYMMETRY EQUIVALENT OF ALL LATTICE SITES\n",
    "    ######\n",
    "    \n",
    "    # identification table tab, tab[i] = j means i=j, initialized 0\n",
    "    identification = zeros(Int64, length(sites(lattice)))\n",
    "    # organized bonds list\n",
    "    org_bonds_from = organizedBondsFrom(lattice)\n",
    "    org_bonds_to   = organizedBondsTo(lattice)\n",
    "    \n",
    "    # go through all sites and find their symmetry equivalent\n",
    "    for s1 in 1:length(sites(lattice))\n",
    "        # the future equivalent site\n",
    "        equiv_site = -1\n",
    "        # check all sites that are already checked if they are equivalent\n",
    "        for s2 in 1:s1-1\n",
    "            # SITE LABEL\n",
    "            if check_site_labels && label(site(lattice,s1)) != label(site(lattice,s2))\n",
    "                # site labels do not agree\n",
    "                continue\n",
    "            end\n",
    "            # BONDS FROM THAT SITE (OUTGOING)\n",
    "            if check_bonds_from\n",
    "                # check if outgoing bonds around s1 and s2 are the same\n",
    "                org_bonds_from_1 = org_bonds_from[s1]\n",
    "                org_bonds_from_2 = org_bonds_from[s2]\n",
    "                if length(org_bonds_from_1) != length(org_bonds_from_2)\n",
    "                    # numbers of bonds do not agree --> sites cannot agree\n",
    "                    continue\n",
    "                end\n",
    "                # check all outgoing bonds if they agree\n",
    "                # assume they do and find mismatches\n",
    "                bonds_identical = true\n",
    "                # iterate over all outgoing bonds b_from_1\n",
    "                for b_from_1 in org_bonds_from_1\n",
    "                    # check if b_from_1 can be found in org_bonds_from_2\n",
    "                    b_found = false\n",
    "                    for b_from_2 in org_bonds_from_2\n",
    "                        if check_bond_labels && label(b_from_1) != label(b_from_2)\n",
    "                            # labels of bonds do not agree, skip to next bond\n",
    "                            continue\n",
    "                        end\n",
    "                        if check_bond_vectors && maximum(abs.(vector(b_from_1, lattice).-vector(b_from_2, lattice)))>precision\n",
    "                            # vectors of bonds do not agree, skip to next bond\n",
    "                            continue\n",
    "                        end\n",
    "                        # agreement wrt conducted tests, b_from_1 is in org_bonds_from_2\n",
    "                        b_found = true\n",
    "                        break\n",
    "                    end\n",
    "                    # if no agreement, b_from_1 is NOT in org_bonds_from_2\n",
    "                    if !b_found\n",
    "                        # the local bond environments cannot be the same\n",
    "                        bonds_identical = false\n",
    "                        break\n",
    "                    end\n",
    "                end\n",
    "                if !bonds_identical\n",
    "                    continue\n",
    "                end\n",
    "            end\n",
    "            # bonds agree wrt conducted tests, sites can be identified\n",
    "            equiv_site = s2\n",
    "            break\n",
    "        end\n",
    "        # check if the site was found\n",
    "        if equiv_site > 0\n",
    "            identification[s1] = identification[equiv_site]\n",
    "        else\n",
    "            identification[s1] = s1\n",
    "        end\n",
    "        #println(\"$(s1) --> $(identification[s1])\")\n",
    "    end\n",
    "    \n",
    "    \n",
    "    ######\n",
    "    # CONSTRUCTION OF BASIS FROM LATTICE SITES\n",
    "    ######\n",
    "    \n",
    "    # find all occuring sites\n",
    "    occuring = zeros(Int64, length(identification))\n",
    "    for i in identification\n",
    "        occuring[i] += 1\n",
    "    end\n",
    "    basis_sites = Int64[\n",
    "        i for i in unique(identification) if (occuring[i]>=basis_site_min_copies) && (occuring[i]>length(identification)*basis_site_min_copies_rel)\n",
    "    ]\n",
    "    println(\"Basis is: \", basis_sites)\n",
    "    # assert that there are basis sites\n",
    "    @assert length(basis_sites)>0 \"No basis sites found!\"\n",
    "                \n",
    "    # find all optimized basis sites\n",
    "    identification_basis = copy(basis_sites)\n",
    "    position_center = [sum([point(s)[alpha] for s in sites(lattice)])/length(sites(lattice)) for alpha in 1:length(point(site(lattice,1)))]\n",
    "    # optimize all basis sites to be closest to proceeding sites and center\n",
    "    for b in 1:length(basis_sites)\n",
    "        # optimal version of basis site\n",
    "        d_closest = Inf\n",
    "        i_closest = 0\n",
    "        # look at basis site b and find the closest to it\n",
    "        for s in 1:length(sites(lattice))\n",
    "            # check for the closest to center\n",
    "            if identification[s] != basis_sites[b]\n",
    "                continue\n",
    "            end\n",
    "            d = norm(position_center .- point(site(lattice,s)))\n",
    "            for b2 in 1:b-1\n",
    "                d += norm(point(site(lattice,basis_sites[b2])) .- point(site(lattice,s)))\n",
    "            end\n",
    "            if d<d_closest\n",
    "                d_closest = d\n",
    "                i_closest = s\n",
    "            end\n",
    "        end\n",
    "        # set the site to the optimal copy\n",
    "        basis_sites[b] = i_closest\n",
    "    end\n",
    "    println(\"Optimized Basis is: \", basis_sites)\n",
    "            \n",
    "                            \n",
    "    ######\n",
    "    # CONSTRUCTION OF LATTICE VECTORS\n",
    "    ######\n",
    "                \n",
    "    # make a new list of sites\n",
    "    new_sites = S[\n",
    "                    deepcopy(site(lattice,s)) for s in basis_sites\n",
    "                ]\n",
    "                            \n",
    "    # STEP 0 - obtain the distance WITHIN the unitcell\n",
    "    uc_vectors = Matrix{Vector{Float64}}(undef, length(basis_sites), length(basis_sites))\n",
    "    for i in 1:length(basis_sites)\n",
    "        for j in 1:length(basis_sites)\n",
    "            uc_vectors[i,j] = point(new_sites[j]) .- point(new_sites[i])\n",
    "        end\n",
    "    end\n",
    "                            \n",
    "    # STEP 1 - ALL LATTICE TRANSLATIONS, dependent on method\n",
    "    translations = Vector{Float64}[]\n",
    "\n",
    "    # insert all translations from bonds\n",
    "    if translations_from_bonds\n",
    "        # insert bonds\n",
    "        for b in bonds(lattice)\n",
    "            # check if correctly identifieable\n",
    "            i_from = findfirst(c->c==identification[from(b)], identification_basis)\n",
    "            i_to   = findfirst(c->c==identification[to(b)], identification_basis)\n",
    "            if i_from == nothing || i_to == nothing\n",
    "                continue\n",
    "            end\n",
    "            # find out the translation\n",
    "            t = vector(b, lattice) .- uc_vectors[i_from, i_to]\n",
    "            # check if it is already in the list\n",
    "            found = false\n",
    "            for tp in translations\n",
    "                if sum(abs.(t.-tp)) < precision\n",
    "                    found=true\n",
    "                    break\n",
    "                end\n",
    "            end\n",
    "            # add it to the list of translations\n",
    "            if found == false\n",
    "                push!(translations, t)\n",
    "            end\n",
    "        end\n",
    "    end\n",
    "\n",
    "    # insert all translations from sites\n",
    "    if translations_from_sites\n",
    "        # insert bonds\n",
    "        for s in 1:length(sites(lattice))\n",
    "            # check if correctly identifieable\n",
    "            i = findfirst(c->c==identification[s], identification_basis)\n",
    "            if i == nothing\n",
    "                continue\n",
    "            end\n",
    "            # find out the translation by subtracting the difference to basis site 1\n",
    "            t = point(site(lattice,s)) .+ uc_vectors[i, 1] .- point(site(lattice,basis_sites[1]))\n",
    "            # check if it is already in the list\n",
    "            found = false\n",
    "            for tp in translations\n",
    "                if sum(abs.(t.-tp)) < precision\n",
    "                    found=true\n",
    "                    break\n",
    "                end\n",
    "            end\n",
    "            # add it to the list of translations\n",
    "            if found == false\n",
    "                push!(translations, t)\n",
    "            end\n",
    "        end\n",
    "    end\n",
    "\n",
    "    # plot and scatter translations\n",
    "    println(\"$(length(translations)) translations found\")\n",
    "    #scatter([t[1] for t in translations], [t[2] for t in translations])\n",
    "    #scatter3D([t[1] for t in translations], [t[2] for t in translations], [t[3] for t in translations])\n",
    "                            \n",
    "                            \n",
    "                            \n",
    "                            \n",
    "    # STEP 2 - CONSTRUCT a_j BASED ON TRANSLATIONS\n",
    "\n",
    "    # make a list which contains both length and translation\n",
    "    translations_list = Tuple{Float64, Vector{Float64}}[(norm(t), t) for t in translations if norm(t)>1e-4]\n",
    "    # sort the list\n",
    "    sort!(translations_list, by=e->e[1])\n",
    "    #println.(translations_list)\n",
    "\n",
    "    # make a list of aj\n",
    "    aj = Vector{Float64}[]\n",
    "\n",
    "    # iterate the following as long as there are unresolved translations\n",
    "    while length(translations_list) > 0\n",
    "        # pick the first translation and define it to be a new lattice vector\n",
    "        new_aj = translations_list[1][2]\n",
    "        # push the lattice vector\n",
    "        push!(aj, new_aj)\n",
    "        # shorten the list\n",
    "        translations_list = translations_list[2:end]\n",
    "        # build combinations along which the other translations can be shifted\n",
    "        aj_combs = unique([(p1*aj[i1].+p2*aj[i2].+p3*aj[i3]) for i1 in 1:length(aj) for i2 in 1:length(aj) for i3 in 1:length(aj) for p1 in [-1,0,1] for p2 in [-1,0,1] for p3 in [-1,0,1]])\n",
    "        #println(length(aj_combs))\n",
    "        # move all translations closest to origin along new_aj\n",
    "        for t in translations_list\n",
    "            # asumme it was relocated\n",
    "            relocated = true\n",
    "            # as long as it cuold be relocated in a step, try moving it along the possible combinations\n",
    "            while relocated\n",
    "                # asumme not relocated\n",
    "                relocated = false\n",
    "                # try different combinations\n",
    "                for c in aj_combs\n",
    "                    if norm(t[2].+c) < norm(t[2])\n",
    "                        t[2] .+= c\n",
    "                        relocated = true\n",
    "                        break\n",
    "                    end\n",
    "                end\n",
    "            end\n",
    "        end\n",
    "        # define a new list of translations by recalculating the distance\n",
    "        translations_list = Tuple{Float64, Vector{Float64}}[(norm(t[2]), t[2]) for t in translations_list if norm(t[2])>1e-8]\n",
    "        sort!(translations_list, by=e->e[1])\n",
    "    end\n",
    "\n",
    "                                                                        \n",
    "                                                                        \n",
    "    # STEP 3 - EXPRESS BONDS IN TERMS OF BRAVAIS LATTICE VECTORS\n",
    "\n",
    "    # find out the new BL dimension\n",
    "    new_N = length(aj)\n",
    "\n",
    "    # list with old bonds\n",
    "    old_bonds = Bond{LB,N}[\n",
    "                    b for b in bonds(lattice) if from(b) in basis_sites\n",
    "                ]\n",
    "\n",
    "    # find out which BLV combinations the bonds are having \n",
    "    BLV_comb = Vector{NTuple{new_N, Int64}}(undef, length(old_bonds))\n",
    "    # combination of ajs\n",
    "    aj_combs = Tuple{Int64,Int64,Int64,Int64,Int64,Int64,Vector{Float64}}[(p,i,q,j,r,k,p*aj[i].+q*aj[j].+r*aj[k]) for i in 1:length(aj) for j in 1:length(aj) for k in 1:length(aj) for r in [-1,0,1] for q in [-1,0,1] for p in [-1,0,1]]\n",
    "    i_list = zeros(Int64, length(old_bonds))\n",
    "    j_list = zeros(Int64, length(old_bonds))\n",
    "    # find out by taking scalar product with perp vector\n",
    "    for bi in 1:length(old_bonds)\n",
    "        # find out the pure inter-unitcell vector for the bond\n",
    "        b = old_bonds[bi]\n",
    "        # check if correctly identifieable\n",
    "        i_from = findfirst(c->c==identification[from(b)], identification_basis)\n",
    "        i_to   = findfirst(c->c==identification[to(b)], identification_basis)\n",
    "        if i_from == nothing || i_to == nothing\n",
    "            error(\"the basis connects to a site which is not in replicas of the basis\")\n",
    "        end\n",
    "        # save i and j\n",
    "        i_list[bi] = i_from\n",
    "        j_list[bi] = i_to\n",
    "        # find out the translation vector that has to be expressed in aj\n",
    "        v = vector(b, lattice) .- uc_vectors[i_from, i_to]\n",
    "        # try to shift the vector accordingly and record the shifts\n",
    "        relocated = true\n",
    "        wrap = zeros(Int64, new_N)\n",
    "        # as long as it cuold be relocated in a step, try moving it along the possible combinations\n",
    "        while relocated\n",
    "            # asumme not relocated\n",
    "            relocated = false\n",
    "            # try different combinations\n",
    "            for c in aj_combs\n",
    "                if norm(v.+c[end]) < norm(v)\n",
    "                    v .+= c[end]\n",
    "                    relocated = true\n",
    "                    wrap[c[2]] -= c[1]\n",
    "                    wrap[c[4]] -= c[3]\n",
    "                    wrap[c[6]] -= c[5]\n",
    "                    break\n",
    "                end\n",
    "            end\n",
    "        end\n",
    "        if norm(v) > precision\n",
    "            error(\"could not fully fold back the following point: $(v)\")\n",
    "        end         \n",
    "        # save the wrap\n",
    "        BLV_comb[bi] = NTuple{new_N,Int64}(wrap)\n",
    "    end\n",
    "\n",
    "    # make new bonds\n",
    "    new_bonds = unique(Bond{LB,new_N}[\n",
    "        newBond(\n",
    "            Bond{LB,new_N},\n",
    "            i_list[b],\n",
    "            j_list[b],\n",
    "            label(old_bonds[b]),\n",
    "            BLV_comb[b]\n",
    "        ) for b in 1:length(old_bonds)\n",
    "    ])\n",
    "\n",
    "    # make a new unitcell\n",
    "    uc = newUnitcell(\n",
    "        Unitcell{S,Bond{LB,new_N}},\n",
    "        aj,\n",
    "        new_sites,\n",
    "        new_bonds                                                                                                    \n",
    "    )\n",
    "                                                                                                        \n",
    "    # return the unitcell\n",
    "    return uc                        \n",
    "end"
   ]
  },
  {
   "cell_type": "code",
   "execution_count": 343,
   "metadata": {
    "scrolled": true
   },
   "outputs": [
    {
     "name": "stdout",
     "output_type": "stream",
     "text": [
      "Basis is: [1, 2]\n",
      "Optimized Basis is: [1, 2]\n",
      "5 translations found\n"
     ]
    },
    {
     "data": {
      "text/plain": [
       "6-element Array{Bond{Int64,2},1}:\n",
       " Bond{Int64,2} 2-->1 @(0, 0): 1 \n",
       " Bond{Int64,2} 1-->2 @(0, 0): 1 \n",
       " Bond{Int64,2} 1-->2 @(-1, 0): 2\n",
       " Bond{Int64,2} 1-->2 @(0, -1): 3\n",
       " Bond{Int64,2} 2-->1 @(1, 0): 2 \n",
       " Bond{Int64,2} 2-->1 @(0, 1): 3 "
      ]
     },
     "execution_count": 343,
     "metadata": {},
     "output_type": "execute_result"
    }
   ],
   "source": [
    "ucc = constructUnitcellFromLatticeByBonds(lt, check_site_labels=true, basis_site_min_copies_rel=0.08, translations_from_sites=false, translations_from_bonds=true)\n",
    "pygui(true)\n",
    "plotLattice(getLatticeOpen(ucc, 1), site_labels=true, colorcode_bonds=:Kitaev);\n",
    "plotLattice(getLatticeOpen(ucc, 2), site_labels=true, colorcode_bonds=:Kitaev);\n",
    "bonds(ucc)"
   ]
  },
  {
   "cell_type": "code",
   "execution_count": 228,
   "metadata": {},
   "outputs": [
    {
     "data": {
      "text/plain": [
       "12-element Array{Bond{Int64,2},1}:\n",
       " Bond{Int64,2} 1-->2 @(0, 0): 1 \n",
       " Bond{Int64,2} 2-->4 @(0, 0): 1 \n",
       " Bond{Int64,2} 4-->3 @(0, 0): 1 \n",
       " Bond{Int64,2} 3-->1 @(0, 0): 1 \n",
       " Bond{Int64,2} 2-->1 @(0, 0): 1 \n",
       " Bond{Int64,2} 4-->2 @(0, 0): 1 \n",
       " Bond{Int64,2} 3-->4 @(0, 0): 1 \n",
       " Bond{Int64,2} 1-->3 @(0, 0): 1 \n",
       " Bond{Int64,2} 3-->2 @(0, -1): 1\n",
       " Bond{Int64,2} 2-->3 @(0, 1): 1 \n",
       " Bond{Int64,2} 4-->1 @(-1, 0): 1\n",
       " Bond{Int64,2} 1-->4 @(1, 0): 1 "
      ]
     },
     "execution_count": 228,
     "metadata": {},
     "output_type": "execute_result"
    }
   ],
   "source": [
    "bonds(getUnitcellSquareOctagon())"
   ]
  },
  {
   "cell_type": "code",
   "execution_count": 250,
   "metadata": {},
   "outputs": [
    {
     "data": {
      "text/plain": [
       "Unitcell object\n",
       "--> type Unitcell{Site{Int64,3},Bond{Int64,3}}\n",
       "--> 6 sites of type Site{Int64,3}\n",
       "--> 18 bonds of type Bond{Int64,3}"
      ]
     },
     "execution_count": 250,
     "metadata": {},
     "output_type": "execute_result"
    }
   ],
   "source": [
    "uc"
   ]
  },
  {
   "cell_type": "code",
   "execution_count": 267,
   "metadata": {},
   "outputs": [],
   "source": [
    "function rotateAroundZAxis!(lattice::AbstractLattice, angle::Real)\n",
    "    # rotate the lattice vectors\n",
    "    for lv in latticeVectors(lattice)\n",
    "        # rotate and overwrite simulateously all components\n",
    "        lv[1], lv[2] = cos(angle)*lv[1] + sin(angle)*lv[2]  ,   -sin(angle)*lv[1] + cos(angle)*lv[2]\n",
    "    end\n",
    "    # rotate the basis sites\n",
    "    for p in point.(sites(lattice))\n",
    "        # rotate and overwrite simulateously all components\n",
    "        p[1], p[2] = cos(angle)*p[1] + sin(angle)*p[2]  ,   -sin(angle)*p[1] + cos(angle)*p[2]\n",
    "    end\n",
    "end\n",
    "\n",
    "function rotateAroundZAxisDeg!(lattice::AbstractLattice, angle::Real)\n",
    "    rotateAroundZAxis!(lattice, angle*pi/180.0)\n",
    "end\n",
    "export rotateAroundZAxisDeg!\n",
    "\n"
   ]
  },
  {
   "cell_type": "code",
   "execution_count": 329,
   "metadata": {},
   "outputs": [],
   "source": [
    "m = 3\n",
    "n = m+1\n",
    "\n",
    "uc = getUnitcellHoneycomb(4)\n",
    "lt = getLatticeByBondDistance(uc, 12*m)\n",
    "#plotLattice(lt)\n",
    "\n",
    "ltp = deepcopy(lt)\n",
    "rotateAroundZAxis!(ltp, acos(0.5*(m*m + n*n + 4*m*n)/(m*m + n*n + m*n)))"
   ]
  },
  {
   "cell_type": "code",
   "execution_count": 330,
   "metadata": {},
   "outputs": [
    {
     "data": {
      "text/plain": [
       "Lattice object\n",
       "--> type Lattice{Site{Int64,2},Bond{Int64,0},Unitcell{Site{Int64,2},Bond{Int64,2}}}\n",
       "--> 3998 sites of type Site{Int64,2}\n",
       "--> 11664 bonds of type Bond{Int64,0}\n",
       "--> unitcell of type Unitcell{Site{Int64,2},Bond{Int64,2}}"
      ]
     },
     "execution_count": 330,
     "metadata": {},
     "output_type": "execute_result"
    }
   ],
   "source": [
    "ltc = deepcopy(ltp)\n",
    "bonds_new = deepcopy(bonds(lt))\n",
    "for b in bonds_new\n",
    "    from!(b, from(b)+length(sites(ltc)))\n",
    "    to!(b, to(b)+length(sites(ltc)))\n",
    "end\n",
    "append!(sites(ltc), deepcopy(sites(lt)))\n",
    "append!(bonds(ltc), bonds_new)\n",
    "#plotLattice(ltc);\n",
    "ltc"
   ]
  },
  {
   "cell_type": "code",
   "execution_count": 331,
   "metadata": {},
   "outputs": [
    {
     "data": {
      "text/plain": [
       "53186-element Array{Bond{Int64,0},1}:\n",
       " Bond{Int64,0} 1-->1 @(): 0      \n",
       " Bond{Int64,0} 1-->2 @(): 1      \n",
       " Bond{Int64,0} 1-->3 @(): 1      \n",
       " Bond{Int64,0} 1-->4 @(): 1      \n",
       " Bond{Int64,0} 1-->2000 @(): 0   \n",
       " Bond{Int64,0} 1-->2001 @(): 1   \n",
       " Bond{Int64,0} 1-->2002 @(): 1   \n",
       " Bond{Int64,0} 1-->2003 @(): 1   \n",
       " Bond{Int64,0} 1-->2004 @(): 2   \n",
       " Bond{Int64,0} 1-->2005 @(): 2   \n",
       " Bond{Int64,0} 1-->2006 @(): 2   \n",
       " Bond{Int64,0} 1-->2008 @(): 2   \n",
       " Bond{Int64,0} 2-->1 @(): 1      \n",
       " ⋮                               \n",
       " Bond{Int64,0} 3996-->3889 @(): 1\n",
       " Bond{Int64,0} 3996-->3996 @(): 0\n",
       " Bond{Int64,0} 3997-->1924 @(): 1\n",
       " Bond{Int64,0} 3997-->3785 @(): 2\n",
       " Bond{Int64,0} 3997-->3889 @(): 1\n",
       " Bond{Int64,0} 3997-->3890 @(): 1\n",
       " Bond{Int64,0} 3997-->3997 @(): 0\n",
       " Bond{Int64,0} 3997-->3998 @(): 2\n",
       " Bond{Int64,0} 3998-->3890 @(): 1\n",
       " Bond{Int64,0} 3998-->3925 @(): 2\n",
       " Bond{Int64,0} 3998-->3997 @(): 2\n",
       " Bond{Int64,0} 3998-->3998 @(): 0"
      ]
     },
     "execution_count": 331,
     "metadata": {},
     "output_type": "execute_result"
    }
   ],
   "source": [
    "ltg = deepcopy(ltc)\n",
    "LB = typeof(label(bonds(ltc)[1]))\n",
    "bonds_geometry = Bond{LB, 0}[\n",
    "    newBond(\n",
    "        Bond{LB, 0},\n",
    "        i,j,\n",
    "        getDefaultLabelN(LB, round(Int64, 2*norm(point(site(ltg,i)).-point(site(ltg,j))))),\n",
    "        NTuple{0,Int64}()\n",
    "    ) for i in 1:length(sites(ltg)) for j in 1:length(sites(ltg)) if norm(point(site(ltg,i)).-point(site(ltg,j)))<1\n",
    "]\n",
    "bonds!(ltg, bonds_geometry)"
   ]
  },
  {
   "cell_type": "code",
   "execution_count": 332,
   "metadata": {},
   "outputs": [
    {
     "data": {
      "text/plain": [
       "13-element Array{Bond{Int64,0},1}:\n",
       " Bond{Int64,0} 3443-->1543 @(): 1\n",
       " Bond{Int64,0} 3443-->1545 @(): 2\n",
       " Bond{Int64,0} 3443-->1640 @(): 2\n",
       " Bond{Int64,0} 3443-->1642 @(): 1\n",
       " Bond{Int64,0} 3443-->1741 @(): 2\n",
       " Bond{Int64,0} 3443-->1743 @(): 1\n",
       " Bond{Int64,0} 3443-->1846 @(): 2\n",
       " Bond{Int64,0} 3443-->3263 @(): 2\n",
       " Bond{Int64,0} 3443-->3350 @(): 1\n",
       " Bond{Int64,0} 3443-->3352 @(): 1\n",
       " Bond{Int64,0} 3443-->3443 @(): 0\n",
       " Bond{Int64,0} 3443-->3538 @(): 1\n",
       " Bond{Int64,0} 3443-->3637 @(): 2"
      ]
     },
     "execution_count": 332,
     "metadata": {},
     "output_type": "execute_result"
    }
   ],
   "source": [
    "organizedBondsFrom(ltg)[rand(1:length(sites(ltg)))]"
   ]
  },
  {
   "cell_type": "code",
   "execution_count": 341,
   "metadata": {},
   "outputs": [
    {
     "name": "stdout",
     "output_type": "stream",
     "text": [
      "Basis is: Int64[]\n"
     ]
    },
    {
     "ename": "AssertionError",
     "evalue": "AssertionError: No basis sites found!",
     "output_type": "error",
     "traceback": [
      "AssertionError: No basis sites found!",
      "",
      "Stacktrace:",
      " [1] #constructUnitcellFromLatticeByBonds#2953(::Bool, ::Bool, ::Bool, ::Bool, ::Bool, ::Int64, ::Float64, ::Bool, ::Bool, ::Float64, ::typeof(constructUnitcellFromLatticeByBonds), ::Lattice{Site{Int64,2},Bond{Int64,0},Unitcell{Site{Int64,2},Bond{Int64,2}}}) at ./In[338]:106",
      " [2] (::getfield(Main, Symbol(\"#kw##constructUnitcellFromLatticeByBonds\")))(::NamedTuple{(:check_site_labels, :basis_site_min_copies, :translations_from_sites, :translations_from_bonds, :precision),Tuple{Bool,Int64,Bool,Bool,Float64}}, ::typeof(constructUnitcellFromLatticeByBonds), ::Lattice{Site{Int64,2},Bond{Int64,0},Unitcell{Site{Int64,2},Bond{Int64,2}}}) at ./none:0",
      " [3] top-level scope at In[341]:1"
     ]
    }
   ],
   "source": [
    "ucc = constructUnitcellFromLatticeByBonds(\n",
    "    ltg, \n",
    "    check_site_labels=false,\n",
    "    basis_site_min_copies=4,\n",
    "    translations_from_sites=true,\n",
    "    translations_from_bonds=false,\n",
    "    precision = 1e-2\n",
    ")"
   ]
  },
  {
   "cell_type": "code",
   "execution_count": null,
   "metadata": {},
   "outputs": [],
   "source": []
  }
 ],
 "metadata": {
  "@webio": {
   "lastCommId": null,
   "lastKernelId": null
  },
  "kernelspec": {
   "display_name": "Julia 1.0.0",
   "language": "julia",
   "name": "julia-1.0"
  },
  "language_info": {
   "file_extension": ".jl",
   "mimetype": "application/julia",
   "name": "julia",
   "version": "1.0.0"
  }
 },
 "nbformat": 4,
 "nbformat_minor": 2
}
